{
 "metadata": {
  "name": "",
  "signature": "sha256:54ebd657398ca705a0f478299cbd9bbce6bc6f3c0cf19a2136d3f934861363c0"
 },
 "nbformat": 3,
 "nbformat_minor": 0,
 "worksheets": [
  {
   "cells": [
    {
     "cell_type": "code",
     "collapsed": false,
     "input": [
      "from scipy.integrate import dblquad\n",
      "from scipy.optimize import minimize\n",
      "import numpy as np\n",
      "import matplotlib.pyplot as plt\n",
      "\n",
      "%matplotlib inline\n",
      "\n",
      "PI = 3.1415926"
     ],
     "language": "python",
     "metadata": {},
     "outputs": []
    },
    {
     "cell_type": "code",
     "collapsed": false,
     "input": [
      "# Integrands for error's and gradients of errors\n",
      "def make_integrands(eps):\n",
      "    # Integrand for sum of squared error\n",
      "    C = 1 / (eps * (2*PI)**1.5)\n",
      "    def I(a, b, x, y):\n",
      "        return C * (y - a*x - b)**2 * np.exp(-(y - np.sin(x))**2 / (2 * eps**2))\n",
      "    def dIa(a, b, x, y):\n",
      "        return C * 2*(-x)*(y - a*x - b) * np.exp(-(y - np.sin(x))**2 / (2 * eps**2))\n",
      "    def dIb(a, b, x, y):\n",
      "        return C * 2*(-1)*(y - a*x - b) * np.exp(-(y - np.sin(x))**2 / (2 * eps**2))\n",
      "    return (I, dIa, dIb)"
     ],
     "language": "python",
     "metadata": {},
     "outputs": []
    },
    {
     "cell_type": "code",
     "collapsed": false,
     "input": [
      "I, dIa, dIb = make_integrands(.5)"
     ],
     "language": "python",
     "metadata": {},
     "outputs": []
    },
    {
     "cell_type": "code",
     "collapsed": false,
     "input": [
      "def Integrate(f, a, b):\n",
      "    return dblquad(\n",
      "        lambda y, x: f(a, b, x, y), \n",
      "        0, 2*PI, \n",
      "        lambda t: -np.inf, lambda t: np.inf\n",
      "    )[0]"
     ],
     "language": "python",
     "metadata": {},
     "outputs": []
    },
    {
     "cell_type": "code",
     "collapsed": false,
     "input": [
      "def E(x):\n",
      "    return Integrate(I, x[0], x[1])\n",
      "\n",
      "def dE(x):\n",
      "    return np.array([Integrate(dIa, x[0], x[1]), Integrate(dIb, x[0], x[1])])"
     ],
     "language": "python",
     "metadata": {},
     "outputs": []
    },
    {
     "cell_type": "code",
     "collapsed": false,
     "input": [
      "res = minimize(E, x0=np.array([0,0]), jac=dE)"
     ],
     "language": "python",
     "metadata": {},
     "outputs": []
    },
    {
     "cell_type": "code",
     "collapsed": false,
     "input": [
      "res.x"
     ],
     "language": "python",
     "metadata": {},
     "outputs": []
    },
    {
     "cell_type": "code",
     "collapsed": false,
     "input": [
      "X = np.linspace(0, 2*PI, 100)\n",
      "plt.plot(X, res.x[0]*X + res.x[1])\n",
      "plt.plot(X, np.sin(X))"
     ],
     "language": "python",
     "metadata": {},
     "outputs": []
    },
    {
     "cell_type": "code",
     "collapsed": false,
     "input": [],
     "language": "python",
     "metadata": {},
     "outputs": []
    }
   ],
   "metadata": {}
  }
 ]
}