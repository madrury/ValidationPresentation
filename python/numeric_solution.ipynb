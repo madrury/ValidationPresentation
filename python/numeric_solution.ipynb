{
 "metadata": {
  "name": "",
  "signature": "sha256:dc16cf39e523a52376f423bb2fb5b238d4387c10d72967c554f0bb3fad9c251d"
 },
 "nbformat": 3,
 "nbformat_minor": 0,
 "worksheets": [
  {
   "cells": [
    {
     "cell_type": "code",
     "collapsed": false,
     "input": [
      "from scipy.integrate import dblquad\n",
      "from scipy.optimize import minimize\n",
      "import numpy as np\n",
      "import matplotlib.pyplot as plt\n",
      "\n",
      "%matplotlib inline\n",
      "\n",
      "PI = 3.1415926"
     ],
     "language": "python",
     "metadata": {},
     "outputs": []
    },
    {
     "cell_type": "code",
     "collapsed": false,
     "input": [
      "dE(np.array([-.1, 0]))"
     ],
     "language": "python",
     "metadata": {},
     "outputs": []
    },
    {
     "cell_type": "code",
     "collapsed": false,
     "input": [
      "# Integrands for error's and gradients of errors\n",
      "def make_integrands(eps, degree):\n",
      "    # Integrand for sum of squared error\n",
      "    C = 1 / (eps * (2*PI)**1.5)\n",
      "    def I(A, x, y):\n",
      "        '''Integrand of expected error.'''\n",
      "        return C * (y - np.polyval(A, x))**2 * np.exp(-(y - np.sin(x))**2 / (2 * eps**2))\n",
      "    \n",
      "    '''Components of the gradient of the above integrand.'''\n",
      "    dI = [lambda A, x, y, i=i: \n",
      "             C * 2*(-x**i)*(y - np.polyval(A, x)) * np.exp(-(y - np.sin(x))**2 / (2 * eps**2))\n",
      "             for i in range(0, degree+1)[::-1]]\n",
      "    \n",
      "    return (I, dI)"
     ],
     "language": "python",
     "metadata": {},
     "outputs": []
    },
    {
     "cell_type": "code",
     "collapsed": false,
     "input": [
      "I, dI = make_integrands(.5, degree=3)"
     ],
     "language": "python",
     "metadata": {},
     "outputs": []
    },
    {
     "cell_type": "code",
     "collapsed": false,
     "input": [
      "def Integrate(f, A):\n",
      "    return dblquad(\n",
      "        lambda y, x: f(A, x, y), \n",
      "        0, 2*PI, \n",
      "        lambda t: -np.inf, lambda t: np.inf\n",
      "    )[0]"
     ],
     "language": "python",
     "metadata": {},
     "outputs": []
    },
    {
     "cell_type": "code",
     "collapsed": false,
     "input": [
      "def E(A):\n",
      "    return Integrate(I, A)\n",
      "\n",
      "def dE(A):\n",
      "    return np.array([Integrate(f, A) for f in dI])"
     ],
     "language": "python",
     "metadata": {},
     "outputs": []
    },
    {
     "cell_type": "code",
     "collapsed": false,
     "input": [
      "res = minimize(E, x0=np.array([0,0,0,0]), jac=dE)"
     ],
     "language": "python",
     "metadata": {},
     "outputs": []
    },
    {
     "cell_type": "code",
     "collapsed": false,
     "input": [
      "X = np.linspace(0, 2*PI, 100)\n",
      "plt.plot(X, np.polyval(res.x, X))\n",
      "plt.plot(X, np.sin(X))"
     ],
     "language": "python",
     "metadata": {},
     "outputs": []
    }
   ],
   "metadata": {}
  }
 ]
}